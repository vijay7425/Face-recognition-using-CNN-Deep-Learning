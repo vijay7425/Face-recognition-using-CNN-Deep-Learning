{
 "cells": [
  {
   "cell_type": "code",
   "execution_count": 3,
   "id": "c7595428-8b12-4ab0-9b9f-00c92f085099",
   "metadata": {},
   "outputs": [
    {
     "name": "stderr",
     "output_type": "stream",
     "text": [
      "100%|████████████████████████████████████████████████████████████████████████████| 3000/3000 [00:02<00:00, 1286.85it/s]"
     ]
    },
    {
     "name": "stdout",
     "output_type": "stream",
     "text": [
      "(2400, 50, 50, 1)\n",
      "(600, 50, 50, 1)\n"
     ]
    },
    {
     "name": "stderr",
     "output_type": "stream",
     "text": [
      "\n"
     ]
    }
   ],
   "source": [
    "import numpy as np \n",
    "from tensorflow.keras.models import Sequential \n",
    "from tensorflow.keras.layers import Conv2D , MaxPooling2D , Flatten,Dense,Dropout,Input\n",
    "%run prepare_data.ipynb\n",
    "from tensorflow.keras.layers import BatchNormalization\n",
    "from tensorflow.keras.preprocessing.image import ImageDataGenerator"
   ]
  },
  {
   "cell_type": "code",
   "execution_count": null,
   "id": "6111668d-209c-42fb-aa08-dcb530ade128",
   "metadata": {},
   "outputs": [
    {
     "name": "stdout",
     "output_type": "stream",
     "text": [
      "Epoch 1/25\n",
      "\u001b[1m75/75\u001b[0m \u001b[32m━━━━━━━━━━━━━━━━━━━━\u001b[0m\u001b[37m\u001b[0m \u001b[1m10s\u001b[0m 92ms/step - accuracy: 0.8530 - loss: 0.7442 - val_accuracy: 0.5733 - val_loss: 6.9969\n",
      "Epoch 2/25\n",
      "\u001b[1m75/75\u001b[0m \u001b[32m━━━━━━━━━━━━━━━━━━━━\u001b[0m\u001b[37m\u001b[0m \u001b[1m7s\u001b[0m 87ms/step - accuracy: 0.9503 - loss: 0.3164 - val_accuracy: 0.8650 - val_loss: 1.0755\n",
      "Epoch 3/25\n",
      "\u001b[1m75/75\u001b[0m \u001b[32m━━━━━━━━━━━━━━━━━━━━\u001b[0m\u001b[37m\u001b[0m \u001b[1m7s\u001b[0m 99ms/step - accuracy: 0.9790 - loss: 0.1621 - val_accuracy: 0.9500 - val_loss: 0.5197\n",
      "Epoch 4/25\n",
      "\u001b[1m75/75\u001b[0m \u001b[32m━━━━━━━━━━━━━━━━━━━━\u001b[0m\u001b[37m\u001b[0m \u001b[1m7s\u001b[0m 86ms/step - accuracy: 0.9780 - loss: 0.1868 - val_accuracy: 0.9983 - val_loss: 0.0467\n",
      "Epoch 5/25\n",
      "\u001b[1m75/75\u001b[0m \u001b[32m━━━━━━━━━━━━━━━━━━━━\u001b[0m\u001b[37m\u001b[0m \u001b[1m7s\u001b[0m 88ms/step - accuracy: 0.9790 - loss: 0.1360 - val_accuracy: 0.9767 - val_loss: 0.1146\n",
      "Epoch 6/25\n",
      "\u001b[1m75/75\u001b[0m \u001b[32m━━━━━━━━━━━━━━━━━━━━\u001b[0m\u001b[37m\u001b[0m \u001b[1m7s\u001b[0m 87ms/step - accuracy: 0.9797 - loss: 0.1704 - val_accuracy: 0.9967 - val_loss: 0.0072\n",
      "Epoch 7/25\n",
      "\u001b[1m75/75\u001b[0m \u001b[32m━━━━━━━━━━━━━━━━━━━━\u001b[0m\u001b[37m\u001b[0m \u001b[1m7s\u001b[0m 90ms/step - accuracy: 0.9832 - loss: 0.0944 - val_accuracy: 0.9983 - val_loss: 0.0042\n",
      "Epoch 8/25\n",
      "\u001b[1m75/75\u001b[0m \u001b[32m━━━━━━━━━━━━━━━━━━━━\u001b[0m\u001b[37m\u001b[0m \u001b[1m7s\u001b[0m 90ms/step - accuracy: 0.9836 - loss: 0.0854 - val_accuracy: 0.9967 - val_loss: 0.0115\n",
      "Epoch 9/25\n",
      "\u001b[1m44/75\u001b[0m \u001b[32m━━━━━━━━━━━\u001b[0m\u001b[37m━━━━━━━━━\u001b[0m \u001b[1m2s\u001b[0m 84ms/step - accuracy: 0.9828 - loss: 0.0668"
     ]
    }
   ],
   "source": [
    "def train_model():\n",
    "    model = Sequential()\n",
    "    model.add(Input(shape = (50,50,1)))\n",
    "    model.add(Conv2D(32,(3,3), activation = \"relu\",padding = 'same'))\n",
    "    model.add(MaxPooling2D(pool_size = (2,2)))\n",
    "    model.add(BatchNormalization())\n",
    "    \n",
    "    model.add(Conv2D(64,(3,3),activation = \"relu\",padding = 'same'))\n",
    "    model.add(MaxPooling2D(pool_size = (2,2)))\n",
    "    model.add(BatchNormalization())\n",
    "    \n",
    "    model.add(Conv2D(128,(3,3),activation = \"relu\",padding = 'same'))\n",
    "    model.add(MaxPooling2D(pool_size = (2,2)))\n",
    "    model.add(BatchNormalization())\n",
    "    \n",
    "    model.add(Flatten())\n",
    "    model.add(Dense(512, activation = \"relu\"))\n",
    "    model.add(Dropout(0.5))\n",
    "    model.add(Dense(len(name_list),activation= \"softmax\"))\n",
    "\n",
    "    model.compile(optimizer = \"adam\" , loss = \"categorical_crossentropy\",  metrics = [\"accuracy\"])\n",
    "    datagen = ImageDataGenerator(\n",
    "        rotation_range=20,\n",
    "        width_shift_range=0.2,\n",
    "        height_shift_range=0.2,\n",
    "        shear_range=0.2,\n",
    "        zoom_range=0.2,\n",
    "        horizontal_flip=True\n",
    "    )\n",
    "\n",
    "    datagen.fit(X_train)\n",
    "    \n",
    "    model.fit(datagen.flow(X_train , np.array(y_train),batch_size = 32), epochs = 25 , validation_data = (X_test , np.array(y_test)),verbose = 1 )\n",
    "\n",
    "\n",
    "    model.save(\"face_recognition_model.h5\")\n",
    "\n",
    "if __name__ == \"__main__\":\n",
    "    train_model()"
   ]
  },
  {
   "cell_type": "code",
   "execution_count": null,
   "id": "6f1873f4-ad85-4ae6-aeef-bd06049dd2fb",
   "metadata": {},
   "outputs": [],
   "source": []
  }
 ],
 "metadata": {
  "kernelspec": {
   "display_name": "Python 3 (ipykernel)",
   "language": "python",
   "name": "python3"
  },
  "language_info": {
   "codemirror_mode": {
    "name": "ipython",
    "version": 3
   },
   "file_extension": ".py",
   "mimetype": "text/x-python",
   "name": "python",
   "nbconvert_exporter": "python",
   "pygments_lexer": "ipython3",
   "version": "3.11.4"
  }
 },
 "nbformat": 4,
 "nbformat_minor": 5
}
