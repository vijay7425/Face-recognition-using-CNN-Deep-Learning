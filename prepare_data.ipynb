{
 "cells": [
  {
   "cell_type": "code",
   "execution_count": 5,
   "id": "47cd4b95-8da0-45a1-a187-ceacc3391c98",
   "metadata": {},
   "outputs": [],
   "source": [
    "import numpy as np\n",
    "import os\n",
    "import cv2\n",
    "from random import shuffle\n",
    "from tqdm import tqdm"
   ]
  },
  {
   "cell_type": "code",
   "execution_count": 6,
   "id": "fe13bb9a-ae23-4337-a0c9-5b3b97dd31c8",
   "metadata": {},
   "outputs": [
    {
     "name": "stderr",
     "output_type": "stream",
     "text": [
      "100%|████████████████████████████████████████████████████████████████████████████| 3000/3000 [00:02<00:00, 1246.40it/s]"
     ]
    },
    {
     "name": "stdout",
     "output_type": "stream",
     "text": [
      "(2400, 50, 50, 1)\n",
      "(600, 50, 50, 1)\n"
     ]
    },
    {
     "name": "stderr",
     "output_type": "stream",
     "text": [
      "\n"
     ]
    }
   ],
   "source": [
    "name_list = [\"Vijay\", \"Sanjay\", \"Mujahid\"]\n",
    "\n",
    "def my_label(image_name):\n",
    "    name = image_name.split('.')[0]\n",
    "    if name in name_list:\n",
    "        index = name_list.index(name)\n",
    "        label = np.zeros(len(name_list))\n",
    "        label[index] = 1\n",
    "        return label\n",
    "    else:\n",
    "        print(f\"Error: Name {name} not found in the dataset\")\n",
    "        return None\n",
    "\n",
    "def my_data():\n",
    "    data = []\n",
    "    for img in tqdm(os.listdir(\"data\")):\n",
    "        path = os.path.join(\"data\", img)\n",
    "        img_data = cv2.imread(path, cv2.IMREAD_GRAYSCALE)\n",
    "        img_data = cv2.resize(img_data, (50, 50))\n",
    "        label = my_label(img)  \n",
    "        if label is not None: \n",
    "            data.append([np.array(img_data), label])\n",
    "    shuffle(data)\n",
    "    return data\n",
    "\n",
    "if __name__ == \"__main__\":\n",
    "    data = my_data()\n",
    "    train = data[:2400]\n",
    "    test = data[2400:]\n",
    "    \n",
    "    X_train = np.array([i[0] for i in train]).reshape(-1, 50, 50, 1)\n",
    "    print(X_train.shape)\n",
    "    y_train = [i[1] for i in train]\n",
    "    \n",
    "    X_test = np.array([i[0] for i in test]).reshape(-1, 50, 50, 1)\n",
    "    print(X_test.shape)\n",
    "    y_test = [i[1] for i in test]\n"
   ]
  },
  {
   "cell_type": "code",
   "execution_count": null,
   "id": "c95e6955-3685-44b2-94e7-d7048a050995",
   "metadata": {},
   "outputs": [],
   "source": []
  }
 ],
 "metadata": {
  "kernelspec": {
   "display_name": "Python 3 (ipykernel)",
   "language": "python",
   "name": "python3"
  },
  "language_info": {
   "codemirror_mode": {
    "name": "ipython",
    "version": 3
   },
   "file_extension": ".py",
   "mimetype": "text/x-python",
   "name": "python",
   "nbconvert_exporter": "python",
   "pygments_lexer": "ipython3",
   "version": "3.11.4"
  }
 },
 "nbformat": 4,
 "nbformat_minor": 5
}
